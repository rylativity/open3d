{
 "cells": [
  {
   "cell_type": "markdown",
   "id": "dc08c362",
   "metadata": {},
   "source": [
    "# Use PCA to Orient a Randomly Rotated Object Up and Down Along It's Longest Axis"
   ]
  },
  {
   "cell_type": "code",
   "execution_count": null,
   "id": "dead729f",
   "metadata": {},
   "outputs": [],
   "source": [
    "import open3d as o3d\n",
    "import numpy as np\n",
    "# from zipfile import ZipFile\n",
    "import gzip\n",
    "import requests\n",
    "from io import BytesIO\n",
    "import copy\n",
    "import os\n",
    "from random import randint"
   ]
  },
  {
   "cell_type": "code",
   "execution_count": null,
   "id": "5625df43",
   "metadata": {},
   "outputs": [],
   "source": [
    "PLY_URL = \"https://graphics.stanford.edu/data/3Dscanrep/xyzrgb/xyzrgb_statuette.ply.gz\""
   ]
  },
  {
   "cell_type": "code",
   "execution_count": null,
   "id": "1ade89f4",
   "metadata": {},
   "outputs": [],
   "source": [
    "PLY_LOCAL_PATH = \"./statuette.ply\"\n",
    "if not os.path.exists(PLY_LOCAL_PATH):\n",
    "    content = BytesIO(requests.get(PLY_URL).content)\n",
    "    with gzip.open(content, \"r\") as gz:\n",
    "        ply = gz.read()\n",
    "    with open(PLY_LOCAL_PATH, \"wb+\") as f:\n",
    "        f.write(ply)"
   ]
  },
  {
   "cell_type": "code",
   "execution_count": null,
   "id": "81a7260e",
   "metadata": {},
   "outputs": [],
   "source": [
    "print(\"Load a ply point cloud, print it, and render it\")\n",
    "pcd = o3d.io.read_point_cloud(PLY_LOCAL_PATH)\n",
    "# print(pcd)\n",
    "# print(np.asarray(pcd.points))\n",
    "# o3d.visualization.draw_geometries([pcd],\n",
    "#                                   zoom=0.3412,\n",
    "#                                   front=[0.4257, -0.2125, -0.8795],\n",
    "#                                   lookat=[2.6172, 2.0475, 1.532],\n",
    "#                                   up=[-0.0694, -0.9768, 0.2024])"
   ]
  },
  {
   "cell_type": "code",
   "execution_count": null,
   "id": "84679521",
   "metadata": {},
   "outputs": [],
   "source": [
    "# o3d.visualization.draw_geometries([pcd])\n",
    "# alpha = 1\n",
    "# print(f\"alpha={alpha:.3f}\")\n",
    "\n",
    "# mesh = o3d.geometry.TriangleMesh.create_from_point_cloud_alpha_shape(\n",
    "#     pcd, alpha)\n",
    "# mesh.compute_vertex_normals()\n",
    "# o3d.visualization.draw_geometries([mesh], mesh_show_back_face=True)"
   ]
  },
  {
   "cell_type": "code",
   "execution_count": null,
   "id": "896e73d1",
   "metadata": {},
   "outputs": [],
   "source": [
    "pcd_random_rotated = copy.deepcopy(pcd)\n",
    "x_rot = np.pi / randint(1,8)\n",
    "y_rot = np.pi / randint(1,8)\n",
    "z_rot = np.pi / randint(1,8)\n",
    "R = pcd_random_rotated.get_rotation_matrix_from_xyz((x_rot, y_rot, z_rot))\n",
    "pcd_random_rotated.rotate(R, center=(0, 0, 0))"
   ]
  },
  {
   "cell_type": "code",
   "execution_count": null,
   "id": "97a57fec",
   "metadata": {},
   "outputs": [],
   "source": [
    "pcd_random_rotated.paint_uniform_color(np.array([1, 0, 0]))"
   ]
  },
  {
   "cell_type": "code",
   "execution_count": null,
   "id": "14d54561",
   "metadata": {},
   "outputs": [],
   "source": [
    "from sklearn.decomposition import PCA"
   ]
  },
  {
   "cell_type": "code",
   "execution_count": null,
   "id": "8ba3e550",
   "metadata": {},
   "outputs": [],
   "source": [
    "pca = PCA(n_components=3)"
   ]
  },
  {
   "cell_type": "code",
   "execution_count": null,
   "id": "6914e44f",
   "metadata": {},
   "outputs": [],
   "source": [
    "points = np.asarray(pcd.points)"
   ]
  },
  {
   "cell_type": "code",
   "execution_count": null,
   "id": "e3d683c9",
   "metadata": {},
   "outputs": [],
   "source": [
    "points[:5]"
   ]
  },
  {
   "cell_type": "code",
   "execution_count": null,
   "id": "319cb6ec",
   "metadata": {},
   "outputs": [],
   "source": [
    "out = pca.fit_transform(points)"
   ]
  },
  {
   "cell_type": "code",
   "execution_count": null,
   "id": "212699db",
   "metadata": {},
   "outputs": [],
   "source": [
    "out[:5]"
   ]
  },
  {
   "cell_type": "code",
   "execution_count": null,
   "id": "b580a5e2",
   "metadata": {},
   "outputs": [],
   "source": [
    "out_pcd = o3d.geometry.PointCloud()\n",
    "out_pcd.points = o3d.utility.Vector3dVector(out)"
   ]
  },
  {
   "cell_type": "code",
   "execution_count": null,
   "id": "a0304c08",
   "metadata": {},
   "outputs": [],
   "source": [
    "out_rotated = copy.deepcopy(out_pcd)\n",
    "R = out_rotated.get_rotation_matrix_from_xyz((0, 0, np.pi/2))\n",
    "out_rotated.rotate(R, center=(0, 0, 0))\n",
    "out_rotated.paint_uniform_color(np.array([0, 1, 0]))\n"
   ]
  },
  {
   "cell_type": "code",
   "execution_count": null,
   "id": "8b1d2489",
   "metadata": {},
   "outputs": [],
   "source": [
    "o3d.visualization.draw_geometries([pcd_random_rotated, out_rotated])"
   ]
  },
  {
   "cell_type": "markdown",
   "id": "0f80ea0c",
   "metadata": {},
   "source": [
    "## Now Use Rotated as Reference For Global Registration and Iterative Closest Point Transformation to Correct the Original Random Rotated Object"
   ]
  },
  {
   "cell_type": "code",
   "execution_count": null,
   "id": "7cf29e5f",
   "metadata": {},
   "outputs": [],
   "source": [
    "def draw_registration_result(source, target, transformation):\n",
    "    source_temp = copy.deepcopy(source)\n",
    "    target_temp = copy.deepcopy(target)\n",
    "    source_temp.paint_uniform_color([1, 0, 0])\n",
    "    target_temp.paint_uniform_color([0, 1, 0])\n",
    "    source_temp.transform(transformation)\n",
    "    o3d.visualization.draw_geometries([source_temp, target_temp],\n",
    "                                    #   zoom=0.4459,\n",
    "                                    #   front=[0.9288, -0.2951, -0.2242],\n",
    "                                    #   lookat=[1.6784, 2.0612, 1.4451],\n",
    "                                    #   up=[-0.3402, -0.9189, -0.1996]\n",
    "                                      )"
   ]
  },
  {
   "cell_type": "code",
   "execution_count": null,
   "id": "25db8c80",
   "metadata": {},
   "outputs": [],
   "source": [
    "def preprocess_point_cloud(pcd, voxel_size):\n",
    "    print(\":: Downsample with a voxel size %.3f.\" % voxel_size)\n",
    "    pcd_down = pcd.voxel_down_sample(voxel_size)\n",
    "\n",
    "    radius_normal = voxel_size * 2\n",
    "    print(\":: Estimate normal with search radius %.3f.\" % radius_normal)\n",
    "    pcd_down.estimate_normals(\n",
    "        o3d.geometry.KDTreeSearchParamHybrid(radius=radius_normal, max_nn=30))\n",
    "\n",
    "    radius_feature = voxel_size * 5\n",
    "    print(\":: Compute FPFH feature with search radius %.3f.\" % radius_feature)\n",
    "    pcd_fpfh = o3d.pipelines.registration.compute_fpfh_feature(\n",
    "        pcd_down,\n",
    "        o3d.geometry.KDTreeSearchParamHybrid(radius=radius_feature, max_nn=100))\n",
    "    return pcd_down, pcd_fpfh"
   ]
  },
  {
   "cell_type": "code",
   "execution_count": null,
   "id": "36869bb7",
   "metadata": {},
   "outputs": [],
   "source": [
    "def prepare_dataset(source, target, voxel_size):\n",
    "    print(\":: Load two point clouds and disturb initial pose.\")\n",
    "    trans_init = np.asarray([[0.0, 0.0, 1.0, 0.0], [1.0, 0.0, 0.0, 0.0],\n",
    "                             [0.0, 1.0, 0.0, 0.0], [0.0, 0.0, 0.0, 1.0]])\n",
    "    source.transform(trans_init)\n",
    "    draw_registration_result(source, target, np.identity(4))\n",
    "\n",
    "    source_down, source_fpfh = preprocess_point_cloud(source, voxel_size)\n",
    "    target_down, target_fpfh = preprocess_point_cloud(target, voxel_size)\n",
    "    return source, target, source_down, target_down, source_fpfh, target_fpfh"
   ]
  },
  {
   "cell_type": "code",
   "execution_count": null,
   "id": "638df4e1",
   "metadata": {},
   "outputs": [],
   "source": [
    "def execute_global_registration(source_down, target_down, source_fpfh,\n",
    "                                target_fpfh, voxel_size):\n",
    "    distance_threshold = voxel_size * 1.5\n",
    "    print(\":: RANSAC registration on downsampled point clouds.\")\n",
    "    print(\"   Since the downsampling voxel size is %.3f,\" % voxel_size)\n",
    "    print(\"   we use a liberal distance threshold %.3f.\" % distance_threshold)\n",
    "    \n",
    "    result = o3d.pipelines.registration.registration_ransac_based_on_feature_matching(\n",
    "        source_down, target_down, source_fpfh, target_fpfh, True, distance_threshold,\n",
    "        o3d.pipelines.registration.TransformationEstimationPointToPoint(False), 4, [\n",
    "            o3d.pipelines.registration.CorrespondenceCheckerBasedOnEdgeLength(0.9),\n",
    "            o3d.pipelines.registration.CorrespondenceCheckerBasedOnDistance(\n",
    "                distance_threshold)\n",
    "        ], o3d.pipelines.registration.RANSACConvergenceCriteria(4000000, 500))\n",
    "    \n",
    "    # result = o3d.pipelines.registration.registration_ransac_based_on_feature_matching(\n",
    "    #     source_down, target_down, source_fpfh, target_fpfh, distance_threshold,\n",
    "    #     o3d.pipelines.registration.TransformationEstimationPointToPoint(False), 4, [\n",
    "    #         o3d.pipelines.registration.CorrespondenceCheckerBasedOnEdgeLength(0.9),\n",
    "    #         o3d.pipelines.registration.CorrespondenceCheckerBasedOnDistance(\n",
    "    #             distance_threshold)\n",
    "    #     ], o3d.pipelines.registration.RANSACConvergenceCriteria(4000000, 500))\n",
    "    return result"
   ]
  },
  {
   "cell_type": "code",
   "execution_count": null,
   "id": "5f961766",
   "metadata": {},
   "outputs": [],
   "source": [
    "voxel_size = 0.05 # means 5cm for this dataset\n",
    "source, target, source_down, target_down, source_fpfh, target_fpfh = prepare_dataset(source = pcd_random_rotated, target=out_rotated, voxel_size=voxel_size)"
   ]
  },
  {
   "cell_type": "code",
   "execution_count": null,
   "id": "2b4ea733",
   "metadata": {},
   "outputs": [],
   "source": [
    "# result_ransac = execute_global_registration(source_down, target_down,\n",
    "#                                             source_fpfh, target_fpfh,\n",
    "#                                             voxel_size)\n",
    "# print(result_ransac)\n",
    "# draw_registration_result(source_down, target_down, result_ransac.transformation)"
   ]
  },
  {
   "cell_type": "code",
   "execution_count": null,
   "id": "77a9677a",
   "metadata": {},
   "outputs": [],
   "source": [
    "def execute_fast_global_registration(source_down, target_down, source_fpfh,\n",
    "                                     target_fpfh, voxel_size):\n",
    "    distance_threshold = voxel_size * 0.5\n",
    "    print(\":: Apply fast global registration with distance threshold %.3f\" \\\n",
    "            % distance_threshold)\n",
    "    result = o3d.pipelines.registration.registration_fgr_based_on_feature_matching(\n",
    "        source_down, target_down, source_fpfh, target_fpfh,\n",
    "        o3d.pipelines.registration.FastGlobalRegistrationOption(\n",
    "            maximum_correspondence_distance=distance_threshold))\n",
    "    return result"
   ]
  },
  {
   "cell_type": "code",
   "execution_count": null,
   "id": "439c6f7b",
   "metadata": {},
   "outputs": [],
   "source": [
    "result_ransac_fast = execute_fast_global_registration(source_down, target_down,\n",
    "                                            source_fpfh, target_fpfh,\n",
    "                                            voxel_size)\n",
    "print(result_ransac_fast)\n",
    "draw_registration_result(source_down, target_down, result_ransac_fast.transformation)"
   ]
  },
  {
   "cell_type": "code",
   "execution_count": null,
   "id": "a769da63",
   "metadata": {},
   "outputs": [],
   "source": [
    "threshold = 0.025\n",
    "# trans_init = np.asarray([[1, 0, 0, 0],\n",
    "#                          [0, 1, 0, 0],\n",
    "#                          [0, 0, 1, 0], \n",
    "#                          [0.0, 0.0, 0.0, 1.0]])\n",
    "trans_init = result_ransac_fast.transformation"
   ]
  },
  {
   "cell_type": "code",
   "execution_count": null,
   "id": "e200a607",
   "metadata": {},
   "outputs": [],
   "source": [
    "trans_init"
   ]
  },
  {
   "cell_type": "code",
   "execution_count": null,
   "id": "29061fce",
   "metadata": {},
   "outputs": [],
   "source": [
    "print(\"Apply point-to-point ICP\")\n",
    "reg_p2p = o3d.pipelines.registration.registration_icp(\n",
    "    pcd_random_rotated, out_rotated, threshold, trans_init,\n",
    "    o3d.pipelines.registration.TransformationEstimationPointToPoint(),\n",
    "    o3d.pipelines.registration.ICPConvergenceCriteria(max_iteration=2000))\n",
    "print(reg_p2p)\n",
    "print(\"Transformation is:\")\n",
    "print(reg_p2p.transformation)\n",
    "draw_registration_result(pcd_random_rotated, out_rotated, reg_p2p.transformation)"
   ]
  },
  {
   "cell_type": "code",
   "execution_count": null,
   "id": "ab4f0dc3",
   "metadata": {},
   "outputs": [],
   "source": []
  }
 ],
 "metadata": {
  "kernelspec": {
   "display_name": ".venv",
   "language": "python",
   "name": "python3"
  },
  "language_info": {
   "codemirror_mode": {
    "name": "ipython",
    "version": 3
   },
   "file_extension": ".py",
   "mimetype": "text/x-python",
   "name": "python",
   "nbconvert_exporter": "python",
   "pygments_lexer": "ipython3",
   "version": "3.12.7"
  }
 },
 "nbformat": 4,
 "nbformat_minor": 5
}
