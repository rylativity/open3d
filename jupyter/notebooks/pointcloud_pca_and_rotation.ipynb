{
 "cells": [
  {
   "cell_type": "markdown",
   "id": "dc08c362",
   "metadata": {},
   "source": [
    "# Use PCA to Orient a Randomly Rotated Object Up and Down Along It's Longest Axis"
   ]
  },
  {
   "cell_type": "code",
   "execution_count": null,
   "id": "dead729f",
   "metadata": {},
   "outputs": [],
   "source": [
    "import open3d as o3d\n",
    "import numpy as np\n",
    "# from zipfile import ZipFile\n",
    "import gzip\n",
    "import requests\n",
    "from io import BytesIO\n",
    "import copy\n",
    "import os\n",
    "from random import randint"
   ]
  },
  {
   "cell_type": "code",
   "execution_count": null,
   "id": "5625df43",
   "metadata": {},
   "outputs": [],
   "source": [
    "PLY_URL = \"https://graphics.stanford.edu/data/3Dscanrep/xyzrgb/xyzrgb_statuette.ply.gz\""
   ]
  },
  {
   "cell_type": "code",
   "execution_count": null,
   "id": "1ade89f4",
   "metadata": {},
   "outputs": [],
   "source": [
    "PLY_LOCAL_PATH = \"./statuette.ply\"\n",
    "if not os.path.exists(PLY_LOCAL_PATH):\n",
    "    content = BytesIO(requests.get(PLY_URL).content)\n",
    "    with gzip.open(content, \"r\") as gz:\n",
    "        ply = gz.read()\n",
    "    with open(PLY_LOCAL_PATH, \"wb+\") as f:\n",
    "        f.write(ply)"
   ]
  },
  {
   "cell_type": "code",
   "execution_count": null,
   "id": "81a7260e",
   "metadata": {},
   "outputs": [],
   "source": [
    "print(\"Load a ply point cloud, print it, and render it\")\n",
    "pcd = o3d.io.read_point_cloud(PLY_LOCAL_PATH)\n",
    "# print(pcd)\n",
    "# print(np.asarray(pcd.points))\n",
    "# o3d.visualization.draw_geometries([pcd],\n",
    "#                                   zoom=0.3412,\n",
    "#                                   front=[0.4257, -0.2125, -0.8795],\n",
    "#                                   lookat=[2.6172, 2.0475, 1.532],\n",
    "#                                   up=[-0.0694, -0.9768, 0.2024])"
   ]
  },
  {
   "cell_type": "code",
   "execution_count": null,
   "id": "84679521",
   "metadata": {},
   "outputs": [],
   "source": [
    "# o3d.visualization.draw_geometries([pcd])\n",
    "# alpha = 1\n",
    "# print(f\"alpha={alpha:.3f}\")\n",
    "\n",
    "# mesh = o3d.geometry.TriangleMesh.create_from_point_cloud_alpha_shape(\n",
    "#     pcd, alpha)\n",
    "# mesh.compute_vertex_normals()\n",
    "# o3d.visualization.draw_geometries([mesh], mesh_show_back_face=True)"
   ]
  },
  {
   "cell_type": "code",
   "execution_count": null,
   "id": "896e73d1",
   "metadata": {},
   "outputs": [],
   "source": [
    "pcd_random_rotated = copy.deepcopy(pcd)\n",
    "x_rot = np.pi / randint(1,8)\n",
    "y_rot = np.pi / randint(1,8)\n",
    "z_rot = np.pi / randint(1,8)\n",
    "R = pcd_random_rotated.get_rotation_matrix_from_xyz((x_rot, y_rot, z_rot))\n",
    "pcd_random_rotated.rotate(R, center=(0, 0, 0))"
   ]
  },
  {
   "cell_type": "code",
   "execution_count": null,
   "id": "97a57fec",
   "metadata": {},
   "outputs": [],
   "source": [
    "pcd_random_rotated.paint_uniform_color(np.array([0, 0, 0]))"
   ]
  },
  {
   "cell_type": "code",
   "execution_count": null,
   "id": "14d54561",
   "metadata": {},
   "outputs": [],
   "source": [
    "from sklearn.decomposition import PCA"
   ]
  },
  {
   "cell_type": "code",
   "execution_count": null,
   "id": "8ba3e550",
   "metadata": {},
   "outputs": [],
   "source": [
    "pca = PCA(n_components=3)"
   ]
  },
  {
   "cell_type": "code",
   "execution_count": null,
   "id": "6914e44f",
   "metadata": {},
   "outputs": [],
   "source": [
    "points = np.asarray(pcd.points)"
   ]
  },
  {
   "cell_type": "code",
   "execution_count": null,
   "id": "e3d683c9",
   "metadata": {},
   "outputs": [],
   "source": [
    "points[:5]"
   ]
  },
  {
   "cell_type": "code",
   "execution_count": null,
   "id": "319cb6ec",
   "metadata": {},
   "outputs": [],
   "source": [
    "out = pca.fit_transform(points)"
   ]
  },
  {
   "cell_type": "code",
   "execution_count": null,
   "id": "212699db",
   "metadata": {},
   "outputs": [],
   "source": [
    "out[:5]"
   ]
  },
  {
   "cell_type": "code",
   "execution_count": null,
   "id": "b580a5e2",
   "metadata": {},
   "outputs": [],
   "source": [
    "out_pcd = o3d.geometry.PointCloud()\n",
    "out_pcd.points = o3d.utility.Vector3dVector(out)"
   ]
  },
  {
   "cell_type": "code",
   "execution_count": null,
   "id": "a0304c08",
   "metadata": {},
   "outputs": [],
   "source": [
    "out_rotated = copy.deepcopy(out_pcd)\n",
    "R = out_rotated.get_rotation_matrix_from_xyz((0, 0, np.pi/2))\n",
    "out_rotated.rotate(R, center=(0, 0, 0))\n"
   ]
  },
  {
   "cell_type": "code",
   "execution_count": null,
   "id": "8b1d2489",
   "metadata": {},
   "outputs": [],
   "source": [
    "o3d.visualization.draw_geometries([pcd_random_rotated, out_rotated])"
   ]
  },
  {
   "cell_type": "code",
   "execution_count": null,
   "id": "09b3f2e1",
   "metadata": {},
   "outputs": [],
   "source": [
    "# out_rotated_mesh=o3d.geometry.TriangleMesh.create_from_point_cloud_alpha_shape(\n",
    "#     out_rotated, alpha)\n",
    "# o3d.visualization.draw_geometries([out_rotated_mesh, mesh])"
   ]
  },
  {
   "cell_type": "code",
   "execution_count": null,
   "id": "0f80ea0c",
   "metadata": {},
   "outputs": [],
   "source": []
  },
  {
   "cell_type": "code",
   "execution_count": null,
   "id": "29061fce",
   "metadata": {},
   "outputs": [],
   "source": []
  }
 ],
 "metadata": {
  "kernelspec": {
   "display_name": ".venv",
   "language": "python",
   "name": "python3"
  },
  "language_info": {
   "codemirror_mode": {
    "name": "ipython",
    "version": 3
   },
   "file_extension": ".py",
   "mimetype": "text/x-python",
   "name": "python",
   "nbconvert_exporter": "python",
   "pygments_lexer": "ipython3",
   "version": "3.12.7"
  }
 },
 "nbformat": 4,
 "nbformat_minor": 5
}
